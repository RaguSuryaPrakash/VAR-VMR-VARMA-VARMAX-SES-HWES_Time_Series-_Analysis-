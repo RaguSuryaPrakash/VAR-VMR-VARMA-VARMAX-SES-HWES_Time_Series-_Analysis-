{
 "cells": [
  {
   "cell_type": "code",
   "execution_count": 1,
   "id": "32cff190",
   "metadata": {},
   "outputs": [],
   "source": [
    "import pandas as pd\n",
    "import datetime as dt\n",
    "import yfinance as yf\n",
    "from sklearn.preprocessing import MinMaxScaler\n",
    "from sklearn.metrics import mean_squared_error\n",
    "from statsmodels.tsa.ar_model import AutoReg\n",
    "from nsepy import get_history as gh\n",
    "import datetime as dt\n",
    "from statsmodels.tsa.api import VARMAX\n",
    "from sklearn.metrics import mean_squared_error, mean_absolute_percentage_error"
   ]
  },
  {
   "cell_type": "code",
   "execution_count": 2,
   "id": "5faacaad",
   "metadata": {},
   "outputs": [
    {
     "name": "stderr",
     "output_type": "stream",
     "text": [
      "[*********************100%%**********************]  1 of 1 completed\n"
     ]
    }
   ],
   "source": [
    "# Fetching data\n",
    "#historical stock data for AXISBANK\n",
    "start = dt.datetime(2021, 7, 1)\n",
    "end = dt.datetime(2022, 1, 27)\n",
    "symbol = 'AXISBANK.NS'\n",
    "stk_data = yf.download(symbol, start=start, end=end)"
   ]
  },
  {
   "cell_type": "code",
   "execution_count": 3,
   "id": "f9c82ed3",
   "metadata": {},
   "outputs": [],
   "source": [
    "# Selecting relevant columns for analysis\n",
    "stk_data = stk_data[[\"Open\", \"High\", \"Low\", \"Close\"]]"
   ]
  },
  {
   "cell_type": "code",
   "execution_count": 4,
   "id": "eee7631d",
   "metadata": {},
   "outputs": [
    {
     "data": {
      "text/html": [
       "<div>\n",
       "<style scoped>\n",
       "    .dataframe tbody tr th:only-of-type {\n",
       "        vertical-align: middle;\n",
       "    }\n",
       "\n",
       "    .dataframe tbody tr th {\n",
       "        vertical-align: top;\n",
       "    }\n",
       "\n",
       "    .dataframe thead th {\n",
       "        text-align: right;\n",
       "    }\n",
       "</style>\n",
       "<table border=\"1\" class=\"dataframe\">\n",
       "  <thead>\n",
       "    <tr style=\"text-align: right;\">\n",
       "      <th></th>\n",
       "      <th>Open</th>\n",
       "      <th>High</th>\n",
       "      <th>Low</th>\n",
       "      <th>Close</th>\n",
       "    </tr>\n",
       "    <tr>\n",
       "      <th>Date</th>\n",
       "      <th></th>\n",
       "      <th></th>\n",
       "      <th></th>\n",
       "      <th></th>\n",
       "    </tr>\n",
       "  </thead>\n",
       "  <tbody>\n",
       "    <tr>\n",
       "      <th>2021-07-01</th>\n",
       "      <td>750.000000</td>\n",
       "      <td>754.400024</td>\n",
       "      <td>744.500000</td>\n",
       "      <td>746.450012</td>\n",
       "    </tr>\n",
       "    <tr>\n",
       "      <th>2021-07-02</th>\n",
       "      <td>747.599976</td>\n",
       "      <td>752.849976</td>\n",
       "      <td>744.000000</td>\n",
       "      <td>750.650024</td>\n",
       "    </tr>\n",
       "    <tr>\n",
       "      <th>2021-07-05</th>\n",
       "      <td>757.099976</td>\n",
       "      <td>762.000000</td>\n",
       "      <td>753.400024</td>\n",
       "      <td>760.349976</td>\n",
       "    </tr>\n",
       "    <tr>\n",
       "      <th>2021-07-06</th>\n",
       "      <td>757.000000</td>\n",
       "      <td>767.000000</td>\n",
       "      <td>755.200012</td>\n",
       "      <td>758.349976</td>\n",
       "    </tr>\n",
       "    <tr>\n",
       "      <th>2021-07-07</th>\n",
       "      <td>755.900024</td>\n",
       "      <td>764.000000</td>\n",
       "      <td>752.250000</td>\n",
       "      <td>762.900024</td>\n",
       "    </tr>\n",
       "    <tr>\n",
       "      <th>...</th>\n",
       "      <td>...</td>\n",
       "      <td>...</td>\n",
       "      <td>...</td>\n",
       "      <td>...</td>\n",
       "    </tr>\n",
       "    <tr>\n",
       "      <th>2022-01-19</th>\n",
       "      <td>725.200012</td>\n",
       "      <td>731.950012</td>\n",
       "      <td>718.700012</td>\n",
       "      <td>729.599976</td>\n",
       "    </tr>\n",
       "    <tr>\n",
       "      <th>2022-01-20</th>\n",
       "      <td>731.049988</td>\n",
       "      <td>737.150024</td>\n",
       "      <td>722.150024</td>\n",
       "      <td>728.900024</td>\n",
       "    </tr>\n",
       "    <tr>\n",
       "      <th>2022-01-21</th>\n",
       "      <td>722.000000</td>\n",
       "      <td>725.250000</td>\n",
       "      <td>708.049988</td>\n",
       "      <td>712.500000</td>\n",
       "    </tr>\n",
       "    <tr>\n",
       "      <th>2022-01-24</th>\n",
       "      <td>715.000000</td>\n",
       "      <td>716.400024</td>\n",
       "      <td>688.200012</td>\n",
       "      <td>704.599976</td>\n",
       "    </tr>\n",
       "    <tr>\n",
       "      <th>2022-01-25</th>\n",
       "      <td>714.000000</td>\n",
       "      <td>755.000000</td>\n",
       "      <td>708.599976</td>\n",
       "      <td>752.200012</td>\n",
       "    </tr>\n",
       "  </tbody>\n",
       "</table>\n",
       "<p>143 rows × 4 columns</p>\n",
       "</div>"
      ],
      "text/plain": [
       "                  Open        High         Low       Close\n",
       "Date                                                      \n",
       "2021-07-01  750.000000  754.400024  744.500000  746.450012\n",
       "2021-07-02  747.599976  752.849976  744.000000  750.650024\n",
       "2021-07-05  757.099976  762.000000  753.400024  760.349976\n",
       "2021-07-06  757.000000  767.000000  755.200012  758.349976\n",
       "2021-07-07  755.900024  764.000000  752.250000  762.900024\n",
       "...                ...         ...         ...         ...\n",
       "2022-01-19  725.200012  731.950012  718.700012  729.599976\n",
       "2022-01-20  731.049988  737.150024  722.150024  728.900024\n",
       "2022-01-21  722.000000  725.250000  708.049988  712.500000\n",
       "2022-01-24  715.000000  716.400024  688.200012  704.599976\n",
       "2022-01-25  714.000000  755.000000  708.599976  752.200012\n",
       "\n",
       "[143 rows x 4 columns]"
      ]
     },
     "execution_count": 4,
     "metadata": {},
     "output_type": "execute_result"
    }
   ],
   "source": [
    "stk_data"
   ]
  },
  {
   "cell_type": "code",
   "execution_count": 5,
   "id": "f7e7f065",
   "metadata": {},
   "outputs": [
    {
     "name": "stdout",
     "output_type": "stream",
     "text": [
      "<class 'pandas.core.frame.DataFrame'>\n",
      "DatetimeIndex: 143 entries, 2021-07-01 to 2022-01-25\n",
      "Data columns (total 4 columns):\n",
      " #   Column  Non-Null Count  Dtype  \n",
      "---  ------  --------------  -----  \n",
      " 0   Open    143 non-null    float64\n",
      " 1   High    143 non-null    float64\n",
      " 2   Low     143 non-null    float64\n",
      " 3   Close   143 non-null    float64\n",
      "dtypes: float64(4)\n",
      "memory usage: 5.6 KB\n"
     ]
    }
   ],
   "source": [
    "stk_data.info()"
   ]
  },
  {
   "cell_type": "code",
   "execution_count": 6,
   "id": "a18b64cb",
   "metadata": {},
   "outputs": [
    {
     "name": "stdout",
     "output_type": "stream",
     "text": [
      "Len: (143, 4)\n"
     ]
    }
   ],
   "source": [
    "# Scaling the data to the range [0, 1]\n",
    "Ms = MinMaxScaler()\n",
    "data1 = Ms.fit_transform(stk_data)\n",
    "print(\"Len:\", data1.shape)"
   ]
  },
  {
   "cell_type": "code",
   "execution_count": 7,
   "id": "62e701c6",
   "metadata": {},
   "outputs": [],
   "source": [
    "# Converting scaled data back to DataFrame for easier manipulation\n",
    "data1 = pd.DataFrame(data1, columns=[\"Open\", \"High\", \"Low\", \"Close\"])"
   ]
  },
  {
   "cell_type": "code",
   "execution_count": 8,
   "id": "56313e07",
   "metadata": {},
   "outputs": [
    {
     "name": "stdout",
     "output_type": "stream",
     "text": [
      "114\n",
      "X_train length: (114, 4)\n",
      "X_test length: (29, 4)\n",
      "y_train length: (114, 4)\n",
      "y_test length: (29, 4)\n"
     ]
    }
   ],
   "source": [
    "# Splitting the data into training and testing sets (80% train, 20% test)\n",
    "training_size = round(len(data1) * 0.80)\n",
    "print(training_size)\n",
    "X_train = data1[:training_size]\n",
    "X_test = data1[training_size:]\n",
    "print(\"X_train length:\", X_train.shape)\n",
    "print(\"X_test length:\", X_test.shape)\n",
    "y_train = data1[:training_size]\n",
    "y_test = data1[training_size:]\n",
    "print(\"y_train length:\", y_train.shape)\n",
    "print(\"y_test length:\", y_test.shape)"
   ]
  },
  {
   "cell_type": "code",
   "execution_count": 9,
   "id": "565f900e",
   "metadata": {},
   "outputs": [],
   "source": [
    "import warnings\n",
    "warnings.filterwarnings(\"ignore\")"
   ]
  },
  {
   "cell_type": "code",
   "execution_count": 10,
   "id": "46a6abe2",
   "metadata": {},
   "outputs": [],
   "source": [
    "# Dictionary to store performance metrics\n",
    "performance = {\"Model\": [], \"RMSE\": [], \"MaPe\": [], \"Lag\": [], \"Test\": []}"
   ]
  },
  {
   "cell_type": "markdown",
   "id": "e5591760",
   "metadata": {},
   "source": [
    "## VARMA: Combines both past values (VAR) and past errors (VMA) of the variables for forecasting."
   ]
  },
  {
   "cell_type": "code",
   "execution_count": 11,
   "id": "84beaa48",
   "metadata": {},
   "outputs": [],
   "source": [
    "def cominbation(dataset, listt):\n",
    "    print(listt)\n",
    "    datasetTwo = dataset[listt]\n",
    "    test_obs = 28\n",
    "    train = datasetTwo[:-test_obs]\n",
    "    test = datasetTwo[-test_obs:]\n",
    "    best_aic = float('inf')\n",
    "    best_order = None\n",
    "    best_model = None\n",
    "    \n",
    "    # Iterate through possible AR and MA orders to find the best model\n",
    "    for i in range(1,5):  # Check VARMA(1,1) to VARMA(10,10)\n",
    "        for j in range(1,):\n",
    "            try:\n",
    "                model = VARMAX(train, order=(i, j))  # VARMA model with AR order=i and MA order=j\n",
    "                results = model.fit(disp=False)\n",
    "                \n",
    "                print('AR Order =', i)\n",
    "                print('MA Order =', j)\n",
    "                print('AIC: ', results.aic)\n",
    "                print('BIC: ', results.bic)\n",
    "                print()\n",
    "                \n",
    "                # Track the best model based on AIC\n",
    "                if results.aic < best_aic:\n",
    "                    best_aic = results.aic\n",
    "                    best_order = (i, j)\n",
    "                    best_model = results\n",
    "            \n",
    "            except Exception as e:\n",
    "                print(f\"Error for order ({i}, {j}):\", e)\n",
    "    \n",
    "    # Forecast using the best model\n",
    "    pred = best_model.forecast(steps=test_obs)\n",
    "    preds = pd.DataFrame(pred, columns=listt)\n",
    "    preds.to_csv(\"varmaforecasted_{}.csv\".format(test_obs))\n",
    "    \n",
    "    # Evaluate performance\n",
    "    rmse = round(mean_squared_error(test, pred, squared=False))\n",
    "    mape = mean_absolute_percentage_error(test, pred)\n",
    "    \n",
    "    # Performance metrics\n",
    "    performance = {\"Model\": [], \"RMSE\": [], \"MaPe\": [], \"Lag\": [], \"Test\": []}\n",
    "    performance[\"Model\"].append(listt)\n",
    "    performance[\"RMSE\"].append(rmse)\n",
    "    performance[\"MaPe\"].append(mape)\n",
    "    performance[\"Lag\"].append(best_order)\n",
    "    performance[\"Test\"].append(test_obs)\n",
    "    \n",
    "    perf = pd.DataFrame(performance)\n",
    "    return perf, best_model, pred\n"
   ]
  },
  {
   "cell_type": "code",
   "execution_count": 12,
   "id": "7e5d289d",
   "metadata": {},
   "outputs": [],
   "source": [
    "listt = [\"Close\", \"High\", \"Open\", \"Low\"]"
   ]
  },
  {
   "cell_type": "code",
   "execution_count": 13,
   "id": "5a3f8a9b",
   "metadata": {},
   "outputs": [
    {
     "name": "stdout",
     "output_type": "stream",
     "text": [
      "['Close', 'High', 'Open', 'Low']\n",
      "AR Order = 1\n",
      "MA Order = 0\n",
      "AIC:  -1901.5893375342425\n",
      "BIC:  -1819.241373683345\n",
      "\n",
      "AR Order = 2\n",
      "MA Order = 0\n",
      "AIC:  -1918.7183229343543\n",
      "BIC:  -1792.451445029645\n",
      "\n",
      "AR Order = 3\n",
      "MA Order = 0\n",
      "AIC:  -1902.2288997568244\n",
      "BIC:  -1732.0431077983028\n",
      "\n",
      "AR Order = 4\n",
      "MA Order = 0\n",
      "AIC:  -1883.234662516965\n",
      "BIC:  -1669.1299565046315\n",
      "\n"
     ]
    }
   ],
   "source": [
    "perf, result, pred = cominbation(data1, listt)"
   ]
  },
  {
   "cell_type": "code",
   "execution_count": 16,
   "id": "06b3f1cd",
   "metadata": {},
   "outputs": [
    {
     "data": {
      "text/html": [
       "<div>\n",
       "<style scoped>\n",
       "    .dataframe tbody tr th:only-of-type {\n",
       "        vertical-align: middle;\n",
       "    }\n",
       "\n",
       "    .dataframe tbody tr th {\n",
       "        vertical-align: top;\n",
       "    }\n",
       "\n",
       "    .dataframe thead th {\n",
       "        text-align: right;\n",
       "    }\n",
       "</style>\n",
       "<table border=\"1\" class=\"dataframe\">\n",
       "  <thead>\n",
       "    <tr style=\"text-align: right;\">\n",
       "      <th></th>\n",
       "      <th>Open</th>\n",
       "      <th>High</th>\n",
       "      <th>Low</th>\n",
       "      <th>Close</th>\n",
       "    </tr>\n",
       "  </thead>\n",
       "  <tbody>\n",
       "    <tr>\n",
       "      <th>0</th>\n",
       "      <td>0.508982</td>\n",
       "      <td>0.441549</td>\n",
       "      <td>0.543815</td>\n",
       "      <td>0.491495</td>\n",
       "    </tr>\n",
       "    <tr>\n",
       "      <th>1</th>\n",
       "      <td>0.497006</td>\n",
       "      <td>0.433854</td>\n",
       "      <td>0.540997</td>\n",
       "      <td>0.513145</td>\n",
       "    </tr>\n",
       "    <tr>\n",
       "      <th>2</th>\n",
       "      <td>0.544411</td>\n",
       "      <td>0.479275</td>\n",
       "      <td>0.593970</td>\n",
       "      <td>0.563144</td>\n",
       "    </tr>\n",
       "    <tr>\n",
       "      <th>3</th>\n",
       "      <td>0.543912</td>\n",
       "      <td>0.504095</td>\n",
       "      <td>0.604114</td>\n",
       "      <td>0.552835</td>\n",
       "    </tr>\n",
       "    <tr>\n",
       "      <th>4</th>\n",
       "      <td>0.538423</td>\n",
       "      <td>0.489203</td>\n",
       "      <td>0.587489</td>\n",
       "      <td>0.576289</td>\n",
       "    </tr>\n",
       "    <tr>\n",
       "      <th>...</th>\n",
       "      <td>...</td>\n",
       "      <td>...</td>\n",
       "      <td>...</td>\n",
       "      <td>...</td>\n",
       "    </tr>\n",
       "    <tr>\n",
       "      <th>138</th>\n",
       "      <td>0.385230</td>\n",
       "      <td>0.330107</td>\n",
       "      <td>0.398422</td>\n",
       "      <td>0.404639</td>\n",
       "    </tr>\n",
       "    <tr>\n",
       "      <th>139</th>\n",
       "      <td>0.414421</td>\n",
       "      <td>0.355920</td>\n",
       "      <td>0.417864</td>\n",
       "      <td>0.401031</td>\n",
       "    </tr>\n",
       "    <tr>\n",
       "      <th>140</th>\n",
       "      <td>0.369261</td>\n",
       "      <td>0.296848</td>\n",
       "      <td>0.338405</td>\n",
       "      <td>0.316495</td>\n",
       "    </tr>\n",
       "    <tr>\n",
       "      <th>141</th>\n",
       "      <td>0.334331</td>\n",
       "      <td>0.252916</td>\n",
       "      <td>0.226543</td>\n",
       "      <td>0.275773</td>\n",
       "    </tr>\n",
       "    <tr>\n",
       "      <th>142</th>\n",
       "      <td>0.329341</td>\n",
       "      <td>0.444527</td>\n",
       "      <td>0.341504</td>\n",
       "      <td>0.521134</td>\n",
       "    </tr>\n",
       "  </tbody>\n",
       "</table>\n",
       "<p>143 rows × 4 columns</p>\n",
       "</div>"
      ],
      "text/plain": [
       "         Open      High       Low     Close\n",
       "0    0.508982  0.441549  0.543815  0.491495\n",
       "1    0.497006  0.433854  0.540997  0.513145\n",
       "2    0.544411  0.479275  0.593970  0.563144\n",
       "3    0.543912  0.504095  0.604114  0.552835\n",
       "4    0.538423  0.489203  0.587489  0.576289\n",
       "..        ...       ...       ...       ...\n",
       "138  0.385230  0.330107  0.398422  0.404639\n",
       "139  0.414421  0.355920  0.417864  0.401031\n",
       "140  0.369261  0.296848  0.338405  0.316495\n",
       "141  0.334331  0.252916  0.226543  0.275773\n",
       "142  0.329341  0.444527  0.341504  0.521134\n",
       "\n",
       "[143 rows x 4 columns]"
      ]
     },
     "execution_count": 16,
     "metadata": {},
     "output_type": "execute_result"
    }
   ],
   "source": [
    "data1"
   ]
  },
  {
   "cell_type": "code",
   "execution_count": 17,
   "id": "616151c6",
   "metadata": {},
   "outputs": [
    {
     "data": {
      "text/html": [
       "<div>\n",
       "<style scoped>\n",
       "    .dataframe tbody tr th:only-of-type {\n",
       "        vertical-align: middle;\n",
       "    }\n",
       "\n",
       "    .dataframe tbody tr th {\n",
       "        vertical-align: top;\n",
       "    }\n",
       "\n",
       "    .dataframe thead th {\n",
       "        text-align: right;\n",
       "    }\n",
       "</style>\n",
       "<table border=\"1\" class=\"dataframe\">\n",
       "  <thead>\n",
       "    <tr style=\"text-align: right;\">\n",
       "      <th></th>\n",
       "      <th>Model</th>\n",
       "      <th>RMSE</th>\n",
       "      <th>MaPe</th>\n",
       "      <th>Lag</th>\n",
       "      <th>Test</th>\n",
       "    </tr>\n",
       "  </thead>\n",
       "  <tbody>\n",
       "    <tr>\n",
       "      <th>0</th>\n",
       "      <td>[Close, High, Open, Low]</td>\n",
       "      <td>0</td>\n",
       "      <td>1.256465</td>\n",
       "      <td>(2, 0)</td>\n",
       "      <td>28</td>\n",
       "    </tr>\n",
       "  </tbody>\n",
       "</table>\n",
       "</div>"
      ],
      "text/plain": [
       "                      Model  RMSE      MaPe     Lag  Test\n",
       "0  [Close, High, Open, Low]     0  1.256465  (2, 0)    28"
      ]
     },
     "execution_count": 17,
     "metadata": {},
     "output_type": "execute_result"
    }
   ],
   "source": [
    "perf"
   ]
  },
  {
   "cell_type": "code",
   "execution_count": null,
   "id": "0e0ab573",
   "metadata": {},
   "outputs": [],
   "source": []
  }
 ],
 "metadata": {
  "kernelspec": {
   "display_name": "Python 3 (ipykernel)",
   "language": "python",
   "name": "python3"
  },
  "language_info": {
   "codemirror_mode": {
    "name": "ipython",
    "version": 3
   },
   "file_extension": ".py",
   "mimetype": "text/x-python",
   "name": "python",
   "nbconvert_exporter": "python",
   "pygments_lexer": "ipython3",
   "version": "3.11.5"
  }
 },
 "nbformat": 4,
 "nbformat_minor": 5
}
